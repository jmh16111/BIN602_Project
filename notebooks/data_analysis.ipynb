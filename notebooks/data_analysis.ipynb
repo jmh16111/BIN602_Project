{
 "cells": [
  {
   "cell_type": "markdown",
   "metadata": {},
   "source": [
    "# Data Processing and Analysis of the UCI Heart Disease Dataset\n",
    "##### Authors: Jourdan Hourican, Lenna Wolffe, Madison Tarasuik, John Beliveau\n",
    "\n",
    "The purpose of this notebook is to import the dataset, clean the data by replacing any missing values with the mean of the data,\n",
    " and extract features and target for analysis via kmeans clustering."
   ]
  },
  {
   "cell_type": "markdown",
   "metadata": {},
   "source": [
    "### Dataset\n",
    "https://archive.ics.uci.edu/dataset/45/heart+disease\n",
    "\n",
    "### Key Reasech Questions:\n",
    "\n",
    "1. Are there specific combinations of risk factors that form clusters in this dataset?\n",
    "2. Can we identify clusters based on clinical measurements (ex. cholesterol levels, resting blood pressure, maximum heart rate) and their association with heart disease?"
   ]
  },
  {
   "cell_type": "code",
   "execution_count": 1,
   "metadata": {},
   "outputs": [],
   "source": [
    "%%capture \n",
    "#This hides the output of the cell\n",
    "\n",
    "#Install necessary packages\n",
    "%pip install ucimlrepo\n",
    "%pip install scikit-learn"
   ]
  },
  {
   "cell_type": "code",
   "execution_count": null,
   "metadata": {},
   "outputs": [],
   "source": [
    "#Run the python script to import, clean, process, and run kmeans clustering on the dataset.\n",
    "%run data_processing.py"
   ]
  },
  {
   "cell_type": "markdown",
   "metadata": {},
   "source": [
    "### Discussion"
   ]
  }
 ],
 "metadata": {
  "kernelspec": {
   "display_name": "base",
   "language": "python",
   "name": "python3"
  },
  "language_info": {
   "codemirror_mode": {
    "name": "ipython",
    "version": 3
   },
   "file_extension": ".py",
   "mimetype": "text/x-python",
   "name": "python",
   "nbconvert_exporter": "python",
   "pygments_lexer": "ipython3",
   "version": "3.12.4"
  }
 },
 "nbformat": 4,
 "nbformat_minor": 2
}
