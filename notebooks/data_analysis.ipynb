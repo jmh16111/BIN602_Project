{
 "cells": [
  {
   "cell_type": "markdown",
   "metadata": {},
   "source": [
    "# Data Processing and Analysis of the UCI Heart Disease Dataset\n",
    "##### Authors: Jourdan Hourican, Lenna Wolffe, Madison Tarasuik, John Beliveau\n",
    "\n",
    "The purpose of this notebook is to import the dataset, clean the data by replacing any missing values with the mean of the data,\n",
    " and extract features and target for analysis via kmeans clustering."
   ]
  },
  {
   "cell_type": "markdown",
   "metadata": {},
   "source": [
    "### Dataset\n",
    "https://archive.ics.uci.edu/dataset/45/heart+disease\n",
    "\n",
    "### Key Research Questions:\n",
    "\n",
    "1. Are there specific combinations of risk factors that form clusters in this dataset?\n",
    "2. Can we identify clusters based on clinical measurements (ex. cholesterol levels, resting blood pressure, maximum heart rate) and their association with heart disease?"
   ]
  },
  {
   "cell_type": "code",
   "execution_count": 3,
   "metadata": {},
   "outputs": [],
   "source": [
    "%%capture \n",
    "#This hides the output of the cell\n",
    "\n",
    "#Install necessary packages\n",
    "%pip install ucimlrepo\n",
    "%pip install scikit-learn\n",
    "\n",
    "#Hide possible warning message from displaying\n",
    "import warnings \n",
    "warnings.filterwarnings(\"ignore\", message=\"KMeans is known to have a memory leak on Windows with MKL\")"
   ]
  },
  {
   "cell_type": "code",
   "execution_count": 2,
   "metadata": {},
   "outputs": [
    {
     "name": "stdout",
     "output_type": "stream",
     "text": [
      "test completed\n",
      "/nPerfomring K-means Clustering\n",
      "/nAnalyzing Clustering Results\n",
      "/nCluster Summary Statistics:\n",
      "               age       sex        cp    trestbps        chol       fbs  \\\n",
      "Cluster                                                                    \n",
      "0        58.141509  0.839623  3.773585  135.537736  251.537736  0.207547   \n",
      "1        49.084746  0.932203  2.762712  127.669492  229.364407  0.118644   \n",
      "2        57.468354  0.088608  2.924051  132.531646  266.075949  0.113924   \n",
      "\n",
      "          restecg     thalach     exang   oldpeak     slope        ca  \\\n",
      "Cluster                                                                 \n",
      "0        1.273585  131.264151  0.688679  1.941509  2.000000  1.261059   \n",
      "1        0.694915  164.796610  0.118644  0.562712  1.322034  0.347599   \n",
      "2        1.050633  151.531646  0.151899  0.541772  1.481013  0.367089   \n",
      "\n",
      "             thal  \n",
      "Cluster            \n",
      "0        6.195606  \n",
      "1        4.500000  \n",
      "2        3.123218  \n",
      "/nUnit test completed.\n"
     ]
    }
   ],
   "source": [
    "#Run the python script to import, clean, process, and run kmeans clustering on the dataset.\n",
    "%run data_processing.py"
   ]
  },
  {
   "cell_type": "markdown",
   "metadata": {},
   "source": [
    "### Discussion\n",
    "\n",
    "By running the clustering scipt we can identify clusters based on clinical measurements, and doing so seems to provide further insight into the heart disease association. For example, Cluster 0 seems to have more severe cardiovascular symptoms and risk factors, while Cluster 1 has better cardiovascular fitness and lower risk factors."
   ]
  }
 ],
 "metadata": {
  "kernelspec": {
   "display_name": "base",
   "language": "python",
   "name": "python3"
  },
  "language_info": {
   "codemirror_mode": {
    "name": "ipython",
    "version": 3
   },
   "file_extension": ".py",
   "mimetype": "text/x-python",
   "name": "python",
   "nbconvert_exporter": "python",
   "pygments_lexer": "ipython3",
   "version": "3.12.4"
  }
 },
 "nbformat": 4,
 "nbformat_minor": 2
}
